{
  "nbformat": 4,
  "nbformat_minor": 0,
  "metadata": {
    "colab": {
      "provenance": []
    },
    "kernelspec": {
      "name": "python3",
      "display_name": "Python 3"
    },
    "language_info": {
      "name": "python"
    },
    "accelerator": "GPU",
    "gpuClass": "standard"
  },
  "cells": [
    {
      "cell_type": "code",
      "source": [
        "import time\n",
        "\n",
        "# For loop\n",
        "\n",
        "\n",
        "numbers = [1, 2, 3, 4, 5, 6, 7, 8, 9, 10, 11, 12, 13, 14, 15, 16, 17, 18, 19, 20, 21, 22, 23, 24, 25, 26, 27]\n",
        "\n",
        "start_time = time.time()\n",
        "result = []\n",
        "for num in numbers:\n",
        "    if num % 2 == 1:\n",
        "        result.append(num ** 2)\n",
        "\n",
        "end_time = time.time()\n",
        "for_loop_time = end_time - start_time\n",
        "\n",
        "# List comprehension\n",
        "start_time = time.time()\n",
        "\n",
        "\n",
        "result = [num ** 2 for num in numbers if num % 2 == 1]\n",
        "\n",
        "end_time = time.time()\n",
        "list_comp_time = end_time - start_time\n",
        "\n",
        "print(\"For loop time:\", for_loop_time)\n",
        "print(\"List comprehension time:\", list_comp_time)\n",
        "print(\"Difference:\", for_loop_time - list_comp_time)"
      ],
      "metadata": {
        "colab": {
          "base_uri": "https://localhost:8080/"
        },
        "id": "6guRKsOOgFe_",
        "outputId": "e602e70a-4c40-4eb8-c3bf-111f0211c1de"
      },
      "execution_count": 1,
      "outputs": [
        {
          "output_type": "stream",
          "name": "stdout",
          "text": [
            "For loop time: 0.0001709461212158203\n",
            "List comprehension time: 0.00012612342834472656\n",
            "Difference: 4.482269287109375e-05\n"
          ]
        }
      ]
    },
    {
      "cell_type": "code",
      "source": [
        "import time\n",
        "\n",
        "# For loop\n",
        "\n",
        "\n",
        "#numbers = [1, 2, 3, 4, 5, 6, 7, 8, 9, 10, 11, 12, 13, 14, 15, 16, 17, 18, 19, 20, 21, 22, 23, 24, 25, 26, 27]\n",
        "numbers = [i for i in range(0,1199999)]#\n",
        "\n",
        "start_time = time.time()\n",
        "result = []\n",
        "for num in numbers:\n",
        "    if num % 2 == 1:\n",
        "        result.append(num ** 2)\n",
        "\n",
        "end_time = time.time()\n",
        "for_loop_time = end_time - start_time\n",
        "\n",
        "# List comprehension\n",
        "start_time = time.time()\n",
        "\n",
        "\n",
        "result = [num ** 2 for num in numbers if num % 2 == 1]\n",
        "\n",
        "end_time = time.time()\n",
        "list_comp_time = end_time - start_time\n",
        "\n",
        "print(\"For loop time:\", for_loop_time)\n",
        "print(\"List comprehension time:\", list_comp_time)\n",
        "print(\"Difference:\", for_loop_time - list_comp_time)"
      ],
      "metadata": {
        "colab": {
          "base_uri": "https://localhost:8080/"
        },
        "id": "A1E3zi93UaCE",
        "outputId": "2f89bde6-2510-405e-eb34-a2ed7df522e9"
      },
      "execution_count": 1,
      "outputs": [
        {
          "output_type": "stream",
          "name": "stdout",
          "text": [
            "For loop time: 0.4517056941986084\n",
            "List comprehension time: 0.30196595191955566\n",
            "Difference: 0.14973974227905273\n"
          ]
        }
      ]
    },
    {
      "cell_type": "code",
      "source": [
        "import time\n",
        "\n",
        "# For loop\n",
        "\n",
        "\n",
        "#numbers = [1, 2, 3, 4, 5, 6, 7, 8, 9, 10, 11, 12, 13, 14, 15, 16, 17, 18, 19, 20, 21, 22, 23, 24, 25, 26, 27]\n",
        "numbers = [i for i in range(0,1999999)]#\n",
        "\n",
        "start_time = time.time()\n",
        "result = []\n",
        "for num in numbers:\n",
        "    if num % 2 == 1:\n",
        "        result.append(num ** 2)\n",
        "\n",
        "end_time = time.time()\n",
        "for_loop_time = end_time - start_time\n",
        "\n",
        "# List comprehension\n",
        "start_time = time.time()\n",
        "\n",
        "\n",
        "result = [num ** 2 for num in numbers if num % 2 == 1]\n",
        "\n",
        "end_time = time.time()\n",
        "list_comp_time = end_time - start_time\n",
        "\n",
        "print(\"For loop time:\", for_loop_time)\n",
        "print(\"List comprehension time:\", list_comp_time)\n",
        "print(\"Difference:\", for_loop_time - list_comp_time)"
      ],
      "metadata": {
        "colab": {
          "base_uri": "https://localhost:8080/"
        },
        "id": "LtqrtJF1VKnK",
        "outputId": "40ed2c9a-4e3a-44e9-a11e-527dd828860d"
      },
      "execution_count": 2,
      "outputs": [
        {
          "output_type": "stream",
          "name": "stdout",
          "text": [
            "For loop time: 0.4380483627319336\n",
            "List comprehension time: 0.321361780166626\n",
            "Difference: 0.11668658256530762\n"
          ]
        }
      ]
    },
    {
      "cell_type": "code",
      "source": [
        "import time\n",
        "\n",
        "# For loop\n",
        "\n",
        "\n",
        "#numbers = [1, 2, 3, 4, 5, 6, 7, 8, 9, 10, 11, 12, 13, 14, 15, 16, 17, 18, 19, 20, 21, 22, 23, 24, 25, 26, 27]\n",
        "numbers = [i for i in range(0,5999999)]#\n",
        "\n",
        "start_time = time.time()\n",
        "result = []\n",
        "for num in numbers:\n",
        "    if num % 2 == 1:\n",
        "        result.append(num ** 2)\n",
        "\n",
        "end_time = time.time()\n",
        "for_loop_time = end_time - start_time\n",
        "\n",
        "# List comprehension\n",
        "start_time = time.time()\n",
        "\n",
        "\n",
        "result = [num ** 2 for num in numbers if num % 2 == 1]\n",
        "\n",
        "end_time = time.time()\n",
        "list_comp_time = end_time - start_time\n",
        "\n",
        "print(\"For loop time:\", for_loop_time)\n",
        "print(\"List comprehension time:\", list_comp_time)\n",
        "print(\"Difference:\", for_loop_time - list_comp_time)"
      ],
      "metadata": {
        "colab": {
          "base_uri": "https://localhost:8080/"
        },
        "id": "XbEfMxTxVQgr",
        "outputId": "5a204813-2760-4d84-8826-7cf4ac91c874"
      },
      "execution_count": 1,
      "outputs": [
        {
          "output_type": "stream",
          "name": "stdout",
          "text": [
            "For loop time: 1.2326505184173584\n",
            "List comprehension time: 0.9734416007995605\n",
            "Difference: 0.25920891761779785\n"
          ]
        }
      ]
    },
    {
      "cell_type": "code",
      "source": [
        "import time\n",
        "\n",
        "# For loop\n",
        "\n",
        "\n",
        "#numbers = [1, 2, 3, 4, 5, 6, 7, 8, 9, 10, 11, 12, 13, 14, 15, 16, 17, 18, 19, 20, 21, 22, 23, 24, 25, 26, 27]\n",
        "numbers = [i for i in range(0,9999999)]#\n",
        "\n",
        "start_time = time.time()\n",
        "result = []\n",
        "for num in numbers:\n",
        "    if num % 2 == 1:\n",
        "        result.append(num ** 2)\n",
        "\n",
        "end_time = time.time()\n",
        "for_loop_time = end_time - start_time\n",
        "\n",
        "# List comprehension\n",
        "start_time = time.time()\n",
        "\n",
        "\n",
        "result = [num ** 2 for num in numbers if num % 2 == 1]\n",
        "\n",
        "end_time = time.time()\n",
        "list_comp_time = end_time - start_time\n",
        "\n",
        "print(\"For loop time:\", for_loop_time)\n",
        "print(\"List comprehension time:\", list_comp_time)\n",
        "print(\"Difference:\", for_loop_time - list_comp_time)"
      ],
      "metadata": {
        "colab": {
          "base_uri": "https://localhost:8080/"
        },
        "id": "eoiJFr24cTuH",
        "outputId": "7cf6c75c-108e-41b9-989c-b7e2c470ac22"
      },
      "execution_count": 3,
      "outputs": [
        {
          "output_type": "stream",
          "name": "stdout",
          "text": [
            "For loop time: 2.8968987464904785\n",
            "List comprehension time: 1.9997034072875977\n",
            "Difference: 0.8971953392028809\n"
          ]
        }
      ]
    },
    {
      "cell_type": "code",
      "source": [
        "import time\n",
        "\n",
        "# For loop\n",
        "\n",
        "\n",
        "#numbers = [1, 2, 3, 4, 5, 6, 7, 8, 9, 10, 11, 12, 13, 14, 15, 16, 17, 18, 19, 20, 21, 22, 23, 24, 25, 26, 27]\n",
        "numbers = [i for i in range(0,19999999)]#\n",
        "\n",
        "start_time = time.time()\n",
        "result = []\n",
        "for num in numbers:\n",
        "    if num % 2 == 1:\n",
        "        result.append(num ** 2)\n",
        "\n",
        "end_time = time.time()\n",
        "for_loop_time = end_time - start_time\n",
        "\n",
        "# List comprehension\n",
        "start_time = time.time()\n",
        "\n",
        "\n",
        "result = [num ** 2 for num in numbers if num % 2 == 1]\n",
        "\n",
        "end_time = time.time()\n",
        "list_comp_time = end_time - start_time\n",
        "\n",
        "print(\"For loop time:\", for_loop_time)\n",
        "print(\"List comprehension time:\", list_comp_time)\n",
        "print(\"Difference:\", for_loop_time - list_comp_time)"
      ],
      "metadata": {
        "colab": {
          "base_uri": "https://localhost:8080/"
        },
        "id": "PDVqc1SZf-Rl",
        "outputId": "df4fe91a-9356-43b0-b3c2-e02dc23b57da"
      },
      "execution_count": 4,
      "outputs": [
        {
          "output_type": "stream",
          "name": "stdout",
          "text": [
            "For loop time: 4.366475582122803\n",
            "List comprehension time: 3.608452796936035\n",
            "Difference: 0.7580227851867676\n"
          ]
        }
      ]
    },
    {
      "cell_type": "code",
      "source": [
        "import time\n",
        "\n",
        "# For loop\n",
        "\n",
        "\n",
        "#numbers = [1, 2, 3, 4, 5, 6, 7, 8, 9, 10, 11, 12, 13, 14, 15, 16, 17, 18, 19, 20, 21, 22, 23, 24, 25, 26, 27]\n",
        "numbers = [i for i in range(0,59999999)]#\n",
        "\n",
        "start_time = time.time()\n",
        "result = []\n",
        "for num in numbers:\n",
        "    if num % 2 == 1:\n",
        "        result.append(num ** 2)\n",
        "\n",
        "end_time = time.time()\n",
        "for_loop_time = end_time - start_time\n",
        "\n",
        "# List comprehension\n",
        "start_time = time.time()\n",
        "\n",
        "\n",
        "result = [num ** 2 for num in numbers if num % 2 == 1]\n",
        "\n",
        "end_time = time.time()\n",
        "list_comp_time = end_time - start_time\n",
        "\n",
        "print(\"For loop time:\", for_loop_time)\n",
        "print(\"List comprehension time:\", list_comp_time)\n",
        "print(\"Difference:\", for_loop_time - list_comp_time)"
      ],
      "metadata": {
        "colab": {
          "base_uri": "https://localhost:8080/"
        },
        "id": "9aoENEZGgL4s",
        "outputId": "fe9be65d-7715-4794-e012-35288eb71e0c"
      },
      "execution_count": 5,
      "outputs": [
        {
          "output_type": "stream",
          "name": "stdout",
          "text": [
            "For loop time: 15.21828579902649\n",
            "List comprehension time: 10.754976511001587\n",
            "Difference: 4.463309288024902\n"
          ]
        }
      ]
    },
    {
      "cell_type": "code",
      "source": [
        "import time\n",
        "\n",
        "# For loop\n",
        "\n",
        "\n",
        "#numbers = [1, 2, 3, 4, 5, 6, 7, 8, 9, 10, 11, 12, 13, 14, 15, 16, 17, 18, 19, 20, 21, 22, 23, 24, 25, 26, 27]\n",
        "numbers = [i for i in range(0,89999999)]#\n",
        "\n",
        "start_time = time.time()\n",
        "result = []\n",
        "for num in numbers:\n",
        "    if num % 2 == 1:\n",
        "        result.append(num ** 2)\n",
        "\n",
        "end_time = time.time()\n",
        "for_loop_time = end_time - start_time\n",
        "\n",
        "# List comprehension\n",
        "start_time = time.time()\n",
        "\n",
        "\n",
        "result = [num ** 2 for num in numbers if num % 2 == 1]\n",
        "\n",
        "end_time = time.time()\n",
        "list_comp_time = end_time - start_time\n",
        "\n",
        "print(\"For loop time:\", for_loop_time)\n",
        "print(\"List comprehension time:\", list_comp_time)\n",
        "print(\"Difference:\", for_loop_time - list_comp_time)"
      ],
      "metadata": {
        "colab": {
          "base_uri": "https://localhost:8080/"
        },
        "id": "TOERnarhgWl8",
        "outputId": "2ec8fca1-a7a1-4e3b-ddb2-d5cd207f9866"
      },
      "execution_count": 6,
      "outputs": [
        {
          "output_type": "stream",
          "name": "stdout",
          "text": [
            "For loop time: 22.617574453353882\n",
            "List comprehension time: 15.808531999588013\n",
            "Difference: 6.809042453765869\n"
          ]
        }
      ]
    },
    {
      "cell_type": "code",
      "source": [
        "import time\n",
        "\n",
        "# For loop\n",
        "\n",
        "\n",
        "#numbers = [1, 2, 3, 4, 5, 6, 7, 8, 9, 10, 11, 12, 13, 14, 15, 16, 17, 18, 19, 20, 21, 22, 23, 24, 25, 26, 27]\n",
        "numbers = [i for i in range(0,99999999)]#\n",
        "\n",
        "start_time = time.time()\n",
        "result = []\n",
        "for num in numbers:\n",
        "    if num % 2 == 1:\n",
        "        result.append(num ** 2)\n",
        "\n",
        "end_time = time.time()\n",
        "for_loop_time = end_time - start_time\n",
        "\n",
        "# List comprehension\n",
        "start_time = time.time()\n",
        "\n",
        "\n",
        "result = [num ** 2 for num in numbers if num % 2 == 1]\n",
        "\n",
        "end_time = time.time()\n",
        "list_comp_time = end_time - start_time\n",
        "\n",
        "print(\"For loop time:\", for_loop_time)\n",
        "print(\"List comprehension time:\", list_comp_time)\n",
        "print(\"Difference:\", for_loop_time - list_comp_time)"
      ],
      "metadata": {
        "colab": {
          "base_uri": "https://localhost:8080/"
        },
        "id": "JgCg3JcNkeP1",
        "outputId": "6addc45f-2f9d-4528-8596-123ba86f6aa3"
      },
      "execution_count": 7,
      "outputs": [
        {
          "output_type": "stream",
          "name": "stdout",
          "text": [
            "For loop time: 24.676311492919922\n",
            "List comprehension time: 18.604254484176636\n",
            "Difference: 6.072057008743286\n"
          ]
        }
      ]
    }
  ]
}